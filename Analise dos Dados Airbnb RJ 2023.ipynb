{
 "cells": [
  {
   "cell_type": "markdown",
   "source": [
    "# Análise dos Dados do Airbnb - Rio de Janeiro\n",
    "\n",
    "## Descrição do Problema:\n",
    "\n",
    "O Airbnb já é considerado como sendo a maior empresa hoteleira da atualidade. Ah, o detalhe é que ele não possui nenhum hotel: https://www.airbnb.com.br/\n",
    "\n",
    "Conectando pessoas que querem viajar (e se hospedar) com anfitriões que querem alugar seus imóveis de maneira prática, o Airbnb fornece uma plataforma inovadora para tornar essa hospedagem alternativa.\n",
    "\n",
    "Hoje o serviço está presente em mais de 30 mil cidades e 192 países, oferecendo das opções mais convencionais até as mais inusitadas como iglus, casas em árvore, barcos entre outras.\n",
    "\n",
    "No final de 2018, a Startup fundada 10 anos atrás, já havia hospedado mais de 300 milhões de pessoas ao redor de todo o mundo, desafiando as redes hoteleiras tradicionais.\n",
    "\n",
    "Uma das iniciativas do Airbnb é disponibilizar dados do site, para algumas das principais cidades do mundo. Por meio do portal Inside Airbnb, é possível baixar uma grande quantidade de dados para desenvolver projetos e soluções de Data Science.\n",
    "\n",
    "### Obtenção dos Dados\n",
    "\n",
    "Os dados utilizados nesta análise foram obtidos através do site Inside Airbnb: http://insideairbnb.com/get-the-data/\n",
    "\n",
    "Iremos analisar os dados referentes à cidade do Rio de Janeiro, e ver quais insights podem ser extraídos a partir de dados brutos.\n",
    "\n",
    "Para esta análise exploratória inicial, será baixado apenas o seguinte arquivo:\n",
    "https://raw.githubusercontent.com/Nicole-Bidigaray/MVP-Sprint-1-PUC-RIO-2023/main/Airbnb%20RJ%202023.csv"
   ],
   "metadata": {
    "collapsed": false
   }
  },
  {
   "cell_type": "code",
   "execution_count": 3,
   "outputs": [
    {
     "data": {
      "text/plain": "'3.7.0'"
     },
     "execution_count": 3,
     "metadata": {},
     "output_type": "execute_result"
    }
   ],
   "source": [
    "# importar os pacotes necessários\n",
    "%matplotlib inline\n",
    "import pandas as pd\n",
    "import numpy as np\n",
    "import matplotlib.pyplot as plt\n",
    "import seaborn as sns\n",
    "import missingno as msno\n",
    "import matplotlib as mpl\n",
    "\n",
    "from IPython.display import display, Markdown\n",
    "\n",
    "## Verifica a versão da matplotlib instalada\n",
    "mpl.__version__"
   ],
   "metadata": {
    "collapsed": false
   }
  },
  {
   "cell_type": "code",
   "execution_count": 4,
   "outputs": [
    {
     "data": {
      "text/plain": "<matplotlib.colors.ListedColormap at 0x7fc1b1bc6fb0>",
      "text/html": "<div style=\"vertical-align: middle;\"><strong>viridis</strong> </div><div class=\"cmap\"><img alt=\"viridis colormap\" title=\"viridis\" style=\"border: 1px solid #555;\" src=\"data:image/png;base64,iVBORw0KGgoAAAANSUhEUgAAAgAAAABACAYAAABsv8+/AAAAFnRFWHRUaXRsZQB2aXJpZGlzIGNvbG9ybWFwrE0mCwAAABx0RVh0RGVzY3JpcHRpb24AdmlyaWRpcyBjb2xvcm1hcAtjl3IAAAAwdEVYdEF1dGhvcgBNYXRwbG90bGliIHYzLjcuMCwgaHR0cHM6Ly9tYXRwbG90bGliLm9yZ48kaEMAAAAydEVYdFNvZnR3YXJlAE1hdHBsb3RsaWIgdjMuNy4wLCBodHRwczovL21hdHBsb3RsaWIub3JnoYL3ZAAAAVhJREFUeJzt1sEJAWAAQGFcbGAIFwdZQEZQFrKekyksoJRiCfnrf983wTu+5Wl5/iz4ufdxPzphOo/DenTCdF675+iE6Vy2t9EJ07lu7qMTprQaHQAA/J8BAIAgAwAAQQYAAIIMAAAEGQAACDIAABBkAAAgyAAAQJABAIAgAwAAQQYAAIIMAAAEGQAACDIAABBkAAAgyAAAQJABAIAgAwAAQQYAAIIMAAAEGQAACDIAABBkAAAgyAAAQJABAIAgAwAAQQYAAIIMAAAEGQAACDIAABBkAAAgyAAAQJABAIAgAwAAQQYAAIIMAAAEGQAACDIAABBkAAAgyAAAQJABAIAgAwAAQQYAAIIMAAAEGQAACDIAABBkAAAgyAAAQJABAIAgAwAAQQYAAIIMAAAEGQAACDIAABBkAAAgyAAAQJABAIAgAwAAQQYAAIIMAAAEGQAACDIAABD0BWvUCYf3z54KAAAAAElFTkSuQmCC\"></div><div style=\"vertical-align: middle; max-width: 514px; display: flex; justify-content: space-between;\"><div style=\"float: left;\"><div title=\"#440154ff\" style=\"display: inline-block; width: 1em; height: 1em; margin: 0; vertical-align: middle; border: 1px solid #555; background-color: #440154ff;\"></div> under</div><div style=\"margin: 0 auto; display: inline-block;\">bad <div title=\"#00000000\" style=\"display: inline-block; width: 1em; height: 1em; margin: 0; vertical-align: middle; border: 1px solid #555; background-color: #00000000;\"></div></div><div style=\"float: right;\">over <div title=\"#fde725ff\" style=\"display: inline-block; width: 1em; height: 1em; margin: 0; vertical-align: middle; border: 1px solid #555; background-color: #fde725ff;\"></div></div>",
      "image/png": "[encoded data removed]"
     },
     "metadata": {},
     "output_type": "display_data"
    },
    {
     "data": {
      "text/plain": "['#440154', '#414487', '#2a788e', '#22a884', '#7ad151', '#fde725']"
     },
     "metadata": {},
     "output_type": "display_data"
    }
   ],
   "source": [
    "# Define paleta de cores\n",
    "\n",
    "# # alternativa A: definição manual das cores a partir de lista de cores em hex\n",
    "# coresViridis = [\"#440154\",\"#3b528b\",\"#21918c\",\"#5ec962\",\"#fde725\"]\n",
    "\n",
    "# alternativa B: definição de cores utilizando palette do próprio matplotlib\n",
    "# a paleta viridis é robusta para pessoas com daltonismo\n",
    "vcmap = plt.get_cmap(\"viridis\", 6) # um a mais do que o necessário para evitar utilizar o amarelo\n",
    "\n",
    "# exibe o mapa de cores\n",
    "display(vcmap)\n",
    "\n",
    "# converte o mapa de cores em um vetor, para uso de cores individuais\n",
    "coresViridis = [mpl.colors.rgb2hex(vcmap(i)) for i in range(6)] # extrai lista de cores em hex\n",
    "display(coresViridis)\n",
    "\n",
    "# define uma cor default\n",
    "corDefault = coresViridis[1]\n",
    "\n",
    "# Carrega uma folha de estilos (opcional - questões estéticas)\n",
    "plt.style.use(\"ggplot\")\n",
    "\n",
    "# Modifica mais alguns parâmetros gráficos (opcional - questões estéticas)\n",
    "plt.rc(\"axes\", facecolor=\"#fafafa\", grid = True)\n",
    "plt.rc(\"grid\", color = \"#f0f0f0\")\n",
    "plt.rc(\"axes\", edgecolor=\"#cccccc\", lw=0.1)\n",
    "\n",
    "# plt.rcdefaults() # Restaura a configuração default"
   ],
   "metadata": {
    "collapsed": false
   }
  },
  {
   "cell_type": "code",
   "execution_count": null,
   "outputs": [],
   "source": [
    "# importar o arquivo listings.csv para um DataFrame\n",
    "df = pd.read_csv(\"\")"
   ],
   "metadata": {
    "collapsed": false
   }
  }
 ],
 "metadata": {
  "kernelspec": {
   "display_name": "Python 3",
   "language": "python",
   "name": "python3"
  },
  "language_info": {
   "codemirror_mode": {
    "name": "ipython",
    "version": 2
   },
   "file_extension": ".py",
   "mimetype": "text/x-python",
   "name": "python",
   "nbconvert_exporter": "python",
   "pygments_lexer": "ipython2",
   "version": "2.7.6"
  }
 },
 "nbformat": 4,
 "nbformat_minor": 0
}
